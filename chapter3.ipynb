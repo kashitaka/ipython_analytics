{
 "cells": [
  {
   "cell_type": "markdown",
   "metadata": {},
   "source": [
    "# 3 ipythonの基本"
   ]
  },
  {
   "cell_type": "code",
   "execution_count": 1,
   "metadata": {
    "collapsed": false
   },
   "outputs": [
    {
     "name": "stdout",
     "output_type": "stream",
     "text": [
      "Populating the interactive namespace from numpy and matplotlib\n"
     ]
    }
   ],
   "source": [
    "%pylab inline"
   ]
  },
  {
   "cell_type": "code",
   "execution_count": 4,
   "metadata": {
    "collapsed": true
   },
   "outputs": [],
   "source": [
    "def add_numbers(a, b):\n",
    "    \"\"\"\n",
    "    Add two numbers together\n",
    "    \n",
    "    Returns\n",
    "    -------\n",
    "    the_sum : type of argumentes\n",
    "    \"\"\"\n",
    "    return a + b"
   ]
  },
  {
   "cell_type": "code",
   "execution_count": 5,
   "metadata": {
    "collapsed": true
   },
   "outputs": [],
   "source": [
    "# ? をつけて変数や関数をくわしく\n",
    "add_numbers?\n",
    "\"\"\"\n",
    "Signature: add_numbers(a, b)\n",
    "Docstring:\n",
    "Add two numbers together\n",
    "\n",
    "Returns\n",
    "-------\n",
    "the_sum : type of argumentes\n",
    "File:      ~/Documents/Python/analytics/notebooks/<ipython-input-1-b67dc30b31d6>\n",
    "Type:      function\n",
    "\"\"\""
   ]
  },
  {
   "cell_type": "code",
   "execution_count": 10,
   "metadata": {
    "collapsed": false
   },
   "outputs": [],
   "source": [
    "b = [1,2,3,4]\n",
    "b?\n",
    "\"\"\"\n",
    "Type:        list\n",
    "String form: [1, 2, 3, 4]\n",
    "Length:      4\n",
    "Docstring:\n",
    "list() -> new empty list\n",
    "list(iterable) -> new list initialized from iterable's items\n",
    "\"\"\""
   ]
  },
  {
   "cell_type": "code",
   "execution_count": 12,
   "metadata": {
    "collapsed": true
   },
   "outputs": [],
   "source": [
    "import numpy as np\n",
    "# *でワイルドカード\n",
    "np.*load*?\n",
    "\"\"\"\n",
    "np.__loader__\n",
    "np.load\n",
    "np.loads\n",
    "np.loadtxt\n",
    "np.pkgload\n",
    "\"\"\""
   ]
  },
  {
   "cell_type": "code",
   "execution_count": 14,
   "metadata": {
    "collapsed": false
   },
   "outputs": [
    {
     "data": {
      "text/plain": [
       "1.4666666666666666"
      ]
     },
     "execution_count": 14,
     "metadata": {},
     "output_type": "execute_result"
    }
   ],
   "source": [
    "# 外部のスクリプトを実行する。tab補完でディレクトリの探索も可能\n",
    "%run ../scripts/upython_script_test_py\n",
    "result"
   ]
  },
  {
   "cell_type": "code",
   "execution_count": 15,
   "metadata": {
    "collapsed": false
   },
   "outputs": [
    {
     "name": "stdout",
     "output_type": "stream",
     "text": [
      "The slowest run took 96.24 times longer than the fastest. This could mean that an intermediate result is being cached \n",
      "10000 loops, best of 3: 94.2 µs per loop\n"
     ]
    }
   ],
   "source": [
    "# マジックコマンド。%を頭につけるコマンド\n",
    "# 例として実行時間の計測ができる %timeit\n",
    "a = np.random.randn(100,100)\n",
    "%timeit np.dot(a,a)"
   ]
  },
  {
   "cell_type": "code",
   "execution_count": 16,
   "metadata": {
    "collapsed": true
   },
   "outputs": [],
   "source": [
    "# マジックコマンドの詳細は ? で\n",
    "%reset?\n",
    "\"\"\"\n",
    "Docstring:\n",
    "Resets the namespace by removing all names defined by the user, if\n",
    "called without arguments, or by removing some types of objects, such\n",
    "as everything currently in IPython's In[] and Out[] containers (see\n",
    "the parameters for details).\n",
    "\n",
    "Parameters\n",
    "----------\n",
    "-f : force reset without asking for confirmation.\n",
    "\n",
    "-s : 'Soft' reset: Only clears your namespace, leaving history intact.\n",
    "    References to objects may be kept. By default (without this option),\n",
    "    we do a 'hard' reset, giving you a new session and removing all\n",
    "    references to objects from the current session.\n",
    "\n",
    "in : reset input history\n",
    "\n",
    "out : reset output history\n",
    "\n",
    "dhist : reset directory history\n",
    "\n",
    "array : reset only variables that are NumPy arrays\n",
    "\n",
    "See Also\n",
    "--------\n",
    "reset_selective : invoked as ``%reset_selective``\n",
    "\n",
    "Examples\n",
    "--------\n",
    "::\n",
    "\n",
    "  In [6]: a = 1\n",
    "\n",
    "  In [7]: a\n",
    "  Out[7]: 1\n",
    "\n",
    "  In [8]: 'a' in _ip.user_ns\n",
    "  Out[8]: True\n",
    "\n",
    "  In [9]: %reset -f\n",
    "\n",
    "  In [1]: 'a' in _ip.user_ns\n",
    "  Out[1]: False\n",
    "\n",
    "  In [2]: %reset -f in\n",
    "  Flushing input history\n",
    "\n",
    "  In [3]: %reset -f dhist in\n",
    "  Flushing directory history\n",
    "  Flushing input history\n",
    "\n",
    "Notes\n",
    "-----\n",
    "Calling this magic from clients that do not implement standard input,\n",
    "such as the ipython notebook interface, will reset the namespace\n",
    "without confirmation.\n",
    "File:      ~/.virtualenvs/analytics/lib/python3.5/site-packages/IPython/core/magics/namespace.py\n",
    "\"\"\""
   ]
  },
  {
   "cell_type": "code",
   "execution_count": 21,
   "metadata": {
    "collapsed": false
   },
   "outputs": [
    {
     "name": "stdout",
     "output_type": "stream",
     "text": [
      "hoge\r\n"
     ]
    }
   ],
   "source": [
    "# !マークでOSのshellが使える\n",
    "!echo hoge"
   ]
  },
  {
   "cell_type": "code",
   "execution_count": 2,
   "metadata": {
    "collapsed": false
   },
   "outputs": [
    {
     "data": {
      "text/plain": [
       "'inet6 fe80::9ef3:87ff:febd:4848%en0 prefixlen 64 scopeid 0x4'"
      ]
     },
     "execution_count": 2,
     "metadata": {},
     "output_type": "execute_result"
    }
   ],
   "source": [
    "# shellの結果を変数に格納する\n",
    "ip_info = !ifconfig en0 | grep inet\n",
    "ip_info[0].strip()"
   ]
  },
  {
   "cell_type": "code",
   "execution_count": 4,
   "metadata": {
    "collapsed": false
   },
   "outputs": [
    {
     "name": "stdout",
     "output_type": "stream",
     "text": [
      "./Untitled.ipynb:    \"    the_sum : type of argumentes\\n\",\r\n",
      "./Untitled.ipynb:    \"the_sum : type of argumentes\\n\",\r\n",
      "./Untitled.ipynb:    \"%run ../scripts/upython_script_test_py\\n\",\r\n",
      "./Untitled.ipynb:      \"The slowest run took 96.24 times longer than the fastest. This could mean that an intermediate result is being cached \\n\",\r\n",
      "./Untitled.ipynb:    \"Notes\\n\",\r\n"
     ]
    }
   ],
   "source": [
    "# python変数をshellに渡す\n",
    "foo = 'test*'\n",
    "!grep $foo ./*"
   ]
  },
  {
   "cell_type": "markdown",
   "metadata": {},
   "source": [
    "## 開発"
   ]
  },
  {
   "cell_type": "code",
   "execution_count": 5,
   "metadata": {
    "collapsed": false
   },
   "outputs": [
    {
     "ename": "TypeError",
     "evalue": "Can't convert 'int' object to str implicitly",
     "output_type": "error",
     "traceback": [
      "\u001b[0;31m---------------------------------------------------------------------------\u001b[0m",
      "\u001b[0;31mTypeError\u001b[0m                                 Traceback (most recent call last)",
      "\u001b[0;32m<ipython-input-5-9e57694d9009>\u001b[0m in \u001b[0;36m<module>\u001b[0;34m()\u001b[0m\n\u001b[1;32m      1\u001b[0m \u001b[0ma\u001b[0m \u001b[0;34m=\u001b[0m \u001b[0;34m'str'\u001b[0m\u001b[0;34m\u001b[0m\u001b[0m\n\u001b[1;32m      2\u001b[0m \u001b[0mb\u001b[0m \u001b[0;34m=\u001b[0m \u001b[0;36m1\u001b[0m\u001b[0;34m\u001b[0m\u001b[0m\n\u001b[0;32m----> 3\u001b[0;31m \u001b[0ma\u001b[0m \u001b[0;34m+\u001b[0m \u001b[0mb\u001b[0m\u001b[0;34m\u001b[0m\u001b[0m\n\u001b[0m",
      "\u001b[0;31mTypeError\u001b[0m: Can't convert 'int' object to str implicitly"
     ]
    }
   ],
   "source": [
    "a = 'str'\n",
    "b = 1\n",
    "a + b"
   ]
  },
  {
   "cell_type": "code",
   "execution_count": 9,
   "metadata": {
    "collapsed": false
   },
   "outputs": [
    {
     "name": "stdout",
     "output_type": "stream",
     "text": [
      "> \u001b[0;32m<ipython-input-5-9e57694d9009>\u001b[0m(3)\u001b[0;36m<module>\u001b[0;34m()\u001b[0m\n",
      "\u001b[0;32m      1 \u001b[0;31m\u001b[0ma\u001b[0m \u001b[0;34m=\u001b[0m \u001b[0;34m'str'\u001b[0m\u001b[0;34m\u001b[0m\u001b[0m\n",
      "\u001b[0m\u001b[1;31m1\u001b[0;32m     2 \u001b[0;31m\u001b[0mb\u001b[0m \u001b[0;34m=\u001b[0m \u001b[0;36m1\u001b[0m\u001b[0;34m\u001b[0m\u001b[0m\n",
      "\u001b[0m\u001b[0;32m----> 3 \u001b[0;31m\u001b[0ma\u001b[0m \u001b[0;34m+\u001b[0m \u001b[0mb\u001b[0m\u001b[0;34m\u001b[0m\u001b[0m\n",
      "\u001b[0m\n",
      "ipdb> h\n",
      "\n",
      "Documented commands (type help <topic>):\n",
      "========================================\n",
      "EOF    c          d        h         next    pp       retval  u          whatis\n",
      "a      cl         debug    help      p       psource  run     unalias    where \n",
      "alias  clear      disable  ignore    pdef    q        rv      undisplay\n",
      "args   commands   display  interact  pdoc    quit     s       unt      \n",
      "b      condition  down     j         pfile   r        source  until    \n",
      "break  cont       enable   jump      pinfo   restart  step    up       \n",
      "bt     continue   exit     n         pinfo2  return   tbreak  w        \n",
      "\n",
      "Miscellaneous help topics:\n",
      "==========================\n",
      "exec  pdb\n",
      "\n",
      "Undocumented commands:\n",
      "======================\n",
      "l  list  ll  longlist\n",
      "\n",
      "ipdb> help b\n",
      "b(reak) [ ([filename:]lineno | function) [, condition] ]\n",
      "        Without argument, list all breaks.\n",
      "\n",
      "        With a line number argument, set a break at this line in the\n",
      "        current file.  With a function name, set a break at the first\n",
      "        executable line of that function.  If a second argument is\n",
      "        present, it is a string specifying an expression which must\n",
      "        evaluate to true before the breakpoint is honored.\n",
      "\n",
      "        The line number may be prefixed with a filename and a colon,\n",
      "        to specify a breakpoint in another file (probably one that\n",
      "        hasn't been loaded yet).  The file is searched for on\n",
      "        sys.path; the .py suffix may be omitted.\n",
      "ipdb> q\n"
     ]
    }
   ],
   "source": [
    "# %debugで検死できる\n",
    "%debug"
   ]
  },
  {
   "cell_type": "code",
   "execution_count": null,
   "metadata": {
    "collapsed": true
   },
   "outputs": [],
   "source": []
  }
 ],
 "metadata": {
  "kernelspec": {
   "display_name": "Python 3",
   "language": "python",
   "name": "python3"
  },
  "language_info": {
   "codemirror_mode": {
    "name": "ipython",
    "version": 3
   },
   "file_extension": ".py",
   "mimetype": "text/x-python",
   "name": "python",
   "nbconvert_exporter": "python",
   "pygments_lexer": "ipython3",
   "version": "3.5.1"
  }
 },
 "nbformat": 4,
 "nbformat_minor": 0
}
